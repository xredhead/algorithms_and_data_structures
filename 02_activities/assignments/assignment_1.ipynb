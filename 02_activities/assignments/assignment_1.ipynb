{
 "cells": [
  {
   "cell_type": "markdown",
   "metadata": {},
   "source": [
    "# Coding Problems\n",
    "\n",
    "## Objective\n",
    "\n",
    "This assignment aims to demonstrate how to study a data structures or algorithms question in depth to prepare for an industry coding interview. Leetcode is a popular coding practice site that many use to practice for technical interviews. Like behavioral interviews, it's important to practice and keep your skills sharp.\n",
    "\n",
    "## Group Size\n",
    "\n",
    "Please complete this individually.\n",
    "\n",
    "## Parts:\n",
    "- Part 1: Figure out the problem you have been assigned, and understand the problem\n",
    "- Part 2: Answer the questions about your assigned problem (including solving it)\n",
    "\n",
    "## Part 1:\n",
    "\n",
    "_*You will be assigned one of three problems based of your first name. Enter your first name, in all lower case, execute the code below, and that will tell you your assigned problem. Include the output as part of your submission (do not clear the output). The problems are based-off problems from Leetcode.*_\n"
   ]
  },
  {
   "cell_type": "code",
   "execution_count": 48,
   "metadata": {},
   "outputs": [
    {
     "name": "stdout",
     "output_type": "stream",
     "text": [
      "3\n"
     ]
    }
   ],
   "source": [
    "import hashlib\n",
    "\n",
    "def hash_to_range(input_string: str) -> int:\n",
    "     hash_object = hashlib.sha256(input_string.encode())\n",
    "     hash_int = int(hash_object.hexdigest(), 16)\n",
    "     return (hash_int % 3) + 1\n",
    "input_string = \"xavier\"\n",
    "result = hash_to_range(input_string)\n",
    "print(result)\n"
   ]
  },
  {
   "cell_type": "markdown",
   "metadata": {},
   "source": [
    "## Question One: First Duplicate in List\n",
    "**Description**  \n",
    "Given a list of integers, return the **first value that appears more than once**. If there are multiple duplicates, return the one that appears **first** in the list. If no duplicate exists, return `-1`.\n",
    "\n",
    "**Examples**\n",
    "```python\n",
    "Input: nums = [3, 1, 4, 2, 5, 1, 6]\n",
    "Output: 1\n",
    "```\n",
    "```python\n",
    "Input: nums = [7, 8, 9, 10]\n",
    "Output: -1\n",
    "```\n",
    "```python\n",
    "Input: nums = [4, 5, 6, 4, 6]\n",
    "Output: 4\n",
    "```\n",
    "\n",
    "**Question 1 Starter Code**"
   ]
  },
  {
   "cell_type": "code",
   "execution_count": 16,
   "metadata": {},
   "outputs": [],
   "source": [
    "from typing import List\n",
    "\n",
    "def first_duplicate(nums: List[int]) -> int:\n",
    "    #make use of a set to store values as they appear. Searching a set for possible duplicate is O(1) due its use of hashing. So set is a good choice for implementation.\n",
    "    a_set = set()\n",
    "    for i in nums:\n",
    "        if i in a_set:\n",
    "            return i\n",
    "        a_set.add(i)\n",
    "    return -1"
   ]
  },
  {
   "cell_type": "code",
   "execution_count": 17,
   "metadata": {},
   "outputs": [
    {
     "name": "stdout",
     "output_type": "stream",
     "text": [
      "first_duplicate returns 1 and the correct answer is 1\n",
      "first_duplicate returns -1 and the correct answer is -1\n",
      "first_duplicate returns 4 and the correct answer is 4\n"
     ]
    }
   ],
   "source": [
    "nums = [3, 1, 4, 2, 5, 1, 6]\n",
    "#Output: 1\n",
    "print(f\"first_duplicate returns {first_duplicate(nums)} and the correct answer is 1\")\n",
    "\n",
    "nums = [7, 8, 9, 10]\n",
    "#Output: -1\n",
    "print(f\"first_duplicate returns {first_duplicate(nums)} and the correct answer is -1\")\n",
    "\n",
    "nums = [4, 5, 6, 4, 6]\n",
    "#Output: 4\n",
    "print(f\"first_duplicate returns {first_duplicate(nums)} and the correct answer is 4\")\n",
    "\n"
   ]
  },
  {
   "cell_type": "markdown",
   "metadata": {},
   "source": [
    "## Question Two: Valid Bracket Sequence\n",
    "**Description**  \n",
    "Given a string containing only the characters `'('`, `')'`, `'{'`, `'}'`, `'['`, and `']'`, determine if the input string is a **valid bracket sequence**.  \n",
    "A string is valid if:\n",
    "- Open brackets are closed by the same type of brackets, and\n",
    "- Open brackets are closed in the correct order.\n",
    "\n",
    "**Examples**\n",
    "```python\n",
    "Input: s = \"([]{})\"\n",
    "Output: True\n",
    "```\n",
    "```python\n",
    "Input: s = \"([)]\"\n",
    "Output: False\n",
    "```\n",
    "```python\n",
    "Input: s = \"()[]{}\"\n",
    "Output: True\n",
    "```\n",
    "```python\n",
    "Input: s = \"[{]}\"\n",
    "Output: False\n",
    "```\n",
    "\n",
    "**Question 2 Starter Code**"
   ]
  },
  {
   "cell_type": "code",
   "execution_count": 19,
   "metadata": {},
   "outputs": [],
   "source": [
    "def is_valid_brackets(s: str) -> bool:\n",
    "    # When encountering a closed bracket, check whether the previous most recently added bracket is the associated proper opening bracket. If it isn't then the sequence is invalid.\n",
    "    brackets = []\n",
    "    #check for case where input string is empty which is considered invalid\n",
    "    if len(s) == 0:\n",
    "        return False\n",
    "    for bracket in s:\n",
    "        if bracket == \"[\" or bracket == \"{\" or bracket == \"(\":\n",
    "            brackets.append(bracket)\n",
    "        elif (bracket == \"]\" and brackets[-1] == \"[\") or (bracket == \"}\" and brackets[-1] == \"{\") or (bracket == \")\" and brackets[-1] == \"(\"):\n",
    "            brackets.pop()\n",
    "        else:\n",
    "            return False\n",
    "    if len(brackets) == 0:\n",
    "        return True\n",
    "    else:\n",
    "        return False"
   ]
  },
  {
   "cell_type": "code",
   "execution_count": 20,
   "metadata": {},
   "outputs": [
    {
     "name": "stdout",
     "output_type": "stream",
     "text": [
      "True\n",
      "False\n",
      "True\n",
      "False\n"
     ]
    }
   ],
   "source": [
    "s = \"([]{})\"\n",
    "print(is_valid_brackets(s))\n",
    "s = \"(])]\"\n",
    "print(is_valid_brackets(s))\n",
    "s = \"()[]{}\"\n",
    "print(is_valid_brackets(s))\n",
    "s = \"[{]}\"\n",
    "print(is_valid_brackets(s))"
   ]
  },
  {
   "cell_type": "markdown",
   "metadata": {},
   "source": [
    "## Question Three: Move All Zeros to End\n",
    "**Description**  \n",
    "Given a list of integers, move all zeros to the end while maintaining the relative order of the non-zero elements. \n",
    "\n",
    "**Examples**\n",
    "```python\n",
    "Input: nums = [0, 1, 0, 3, 12]\n",
    "Output: [1, 3, 12, 0, 0]\n",
    "```\n",
    "```python\n",
    "Input: nums = [4, 0, 5, 0, 0, 6]\n",
    "Output: [4, 5, 6, 0, 0, 0]\n",
    "```\n"
   ]
  },
  {
   "cell_type": "code",
   "execution_count": 1,
   "metadata": {},
   "outputs": [],
   "source": [
    "from typing import List\n",
    "\n",
    "def move_zeros_to_end(nums: List[int]) -> List[int]:\n",
    "    # go through each integer in the list and add non-zeroes to seperate list as they appear and update running counter to keep track of number of 0's. After processing list of integers add append counted number of 0's to non-zeroes list.\n",
    "    processed_list = []\n",
    "    zero_counter = 0\n",
    "    for i in nums:\n",
    "        if i == 0:\n",
    "            zero_counter += 1\n",
    "        else:\n",
    "            processed_list.append(i)\n",
    "    for j in range(zero_counter):\n",
    "        processed_list.append(0)\n",
    "    return processed_list"
   ]
  },
  {
   "cell_type": "code",
   "execution_count": 2,
   "metadata": {},
   "outputs": [
    {
     "name": "stdout",
     "output_type": "stream",
     "text": [
      "[1, 3, 12, 0, 0]\n",
      "[4, 5, 6, 0, 0, 0]\n"
     ]
    }
   ],
   "source": [
    "nums = [0,1,0,3,12]\n",
    "print(move_zeros_to_end(nums))\n",
    "nums = [4,0,5,0,0,6]\n",
    "print(move_zeros_to_end(nums))"
   ]
  },
  {
   "cell_type": "markdown",
   "metadata": {},
   "source": [
    "\n",
    "## Part 2:\n",
    "\n",
    "-   Paraphrase the problem in your own words\n"
   ]
  },
  {
   "cell_type": "code",
   "execution_count": null,
   "metadata": {},
   "outputs": [],
   "source": [
    "# Your answer here\n",
    "# A given list of integers must be processed such that the order of non-zero integers is preserved while any zeroes encountered are effectively moved to the end of the list."
   ]
  },
  {
   "cell_type": "markdown",
   "metadata": {},
   "source": [
    "- In this .ipynb file, there are examples that illustrate how the code should work (the examples provided above). Create 2 new examples for the question you have been assigned, that demonstrate you understand the problem. For question 1 and 2, you don't need to create the tree demonstration, just the input and output.\n"
   ]
  },
  {
   "cell_type": "code",
   "execution_count": 58,
   "metadata": {},
   "outputs": [
    {
     "name": "stdout",
     "output_type": "stream",
     "text": [
      "Example 1:\n",
      "Integers to be processed: \n",
      "[0, 0, 0, 0, 0, 3, 2, 1]\n",
      "Expected output is: \n",
      "[3, 2, 1, 0, 0, 0, 0, 0]\n",
      "Actual Output: \n",
      "[3, 2, 1, 0, 0, 0, 0, 0]\n",
      "\n",
      "Example 2:\n",
      "Integers to be processed: \n",
      "[0, 5, 0, 3, 0, 2, 0, -1]\n",
      "Expected output is: \n",
      "[5, 3, 2, -1, 0, 0, 0, 0]\n",
      "Actual Output: \n",
      "[5, 3, 2, -1, 0, 0, 0, 0]\n"
     ]
    }
   ],
   "source": [
    "# Your answer here\n",
    "print(\"Example 1:\")\n",
    "nums = [0, 0, 0, 0, 0, 3, 2, 1]\n",
    "print(f\"Integers to be processed: \\n{nums}\")\n",
    "print(\"Expected output is: \\n\"\n",
    "\"[3, 2, 1, 0, 0, 0, 0, 0]\")\n",
    "print(f\"Actual Output: \\n{move_zeros_to_end(nums)}\")\n",
    "print()\n",
    "print(\"Example 2:\")\n",
    "nums = [0, 5, 0, 3, 0, 2, 0, -1]\n",
    "print(f\"Integers to be processed: \\n{nums}\")\n",
    "print(\"Expected output is: \\n\"\n",
    "\"[5, 3, 2, -1, 0, 0, 0, 0]\")\n",
    "print(f\"Actual Output: \\n{move_zeros_to_end(nums)}\")\n",
    "\n"
   ]
  },
  {
   "cell_type": "markdown",
   "metadata": {},
   "source": [
    "\n",
    "-   Code the solution to your assigned problem in Python (code chunk). Note: each problem can be solved more simply if you use an abstract data type that is suitable for that problem. Using that try to find the best time and space complexity solution!\n"
   ]
  },
  {
   "cell_type": "code",
   "execution_count": 3,
   "metadata": {},
   "outputs": [],
   "source": [
    "# Your answer here\n",
    "# confused if this is to be different than the solution I gave above??\n",
    "from typing import List\n",
    "\n",
    "def move_zeros_to_end(nums: List[int]) -> List[int]:\n",
    "    # go through each integer in the list and add non-zeroes to seperate list as they appear and update running counter to keep track of number of 0's. After processing list of integers add append counted number of 0's to non-zeroes list.\n",
    "    processed_list = []\n",
    "    zero_counter = 0\n",
    "    for i in nums:\n",
    "        if i == 0:\n",
    "            zero_counter += 1\n",
    "        else:\n",
    "            processed_list.append(i)\n",
    "    for j in range(zero_counter):\n",
    "        processed_list.append(0)\n",
    "    return processed_list"
   ]
  },
  {
   "cell_type": "markdown",
   "metadata": {},
   "source": [
    "\n",
    "-   Explain why your solution works\n"
   ]
  },
  {
   "cell_type": "code",
   "execution_count": null,
   "metadata": {},
   "outputs": [],
   "source": [
    "# Your answer here\n",
    "# The solution works because it goes through all integers provided and adds non-zeroes in a list in the relative order that they are seen. Anytime a zero is encountered a running count is updated to represent the total number of zeroes. After all integers that are provided are processed, the correct number of zeroes are added at the end of the processed list."
   ]
  },
  {
   "cell_type": "markdown",
   "metadata": {},
   "source": [
    "\n",
    "-   Explain the problem’s time and space complexity\n"
   ]
  },
  {
   "cell_type": "code",
   "execution_count": null,
   "metadata": {},
   "outputs": [],
   "source": [
    "# Your answer here\n",
    "# The time complexity is O(n). This is because the for loop iterates through the 'n' elements of the given list of integers. The following loop to add the zeroes would also be at worst O(n) if all the integers given were zeros. Given these loops are not nested the time complexity is O(n).\n",
    "# The space complexity is the size of n integers given. We are given 'n' integers and are creating a list of exactly 'n' integers."
   ]
  },
  {
   "cell_type": "markdown",
   "metadata": {},
   "source": [
    "\n",
    "-   Explain the thinking to an alternative solution (no coding required, but a classmate reading this should be able to code it up based off your text)\n"
   ]
  },
  {
   "cell_type": "code",
   "execution_count": null,
   "metadata": {},
   "outputs": [],
   "source": [
    "# Your answer here\n",
    "# An alternative solution would be rather than to maintain a counter for zeroes, we could maintain a seperate list for zeroes (e.g. zero_list), this zero_list would be filled with 0's that are encountered. After looping through the integers, use to .extend method to add the zero_list to the processed_list. The extend method does not create new lists but modifies the existing processed_list. \n",
    "# Another perhaps more efficient alternative would be to if we could modify the list of integers passed to the function directly rather than creating an additional list. We would somehow need to be able to access the memory location for the list passed to the function but don't think we've learned that yet.\n",
    " "
   ]
  },
  {
   "cell_type": "markdown",
   "metadata": {},
   "source": [
    "## Evaluation Criteria\n",
    "\n",
    "-   Problem is accurately stated\n",
    "\n",
    "-   Two examples are correct and easily understandable\n",
    "\n",
    "-   Correctness, time, and space complexity of the coding solution\n",
    "\n",
    "-   Clarity in explaining why the solution works, its time and space complexity\n",
    "\n",
    "-   Clarity in the proposal to the alternative solution"
   ]
  },
  {
   "cell_type": "markdown",
   "metadata": {},
   "source": [
    "## Submission Information\n",
    "\n",
    "🚨 **Please review our [Assignment Submission Guide](https://github.com/UofT-DSI/onboarding/blob/main/onboarding_documents/submissions.md)** 🚨 for detailed instructions on how to format, branch, and submit your work. Following these guidelines is crucial for your submissions to be evaluated correctly.\n",
    "\n",
    "### Submission Parameters:\n",
    "* Submission Due Date: `HH:MM AM/PM - DD/MM/YYYY`\n",
    "* The branch name for your repo should be: `assignment-1`\n",
    "* What to submit for this assignment:\n",
    "    * This Jupyter Notebook (assignment_1.ipynb) should be populated and should be the only change in your pull request.\n",
    "* What the pull request link should look like for this assignment: `https://github.com/<your_github_username>/algorithms_and_data_structures/pull/<pr_id>`\n",
    "    * Open a private window in your browser. Copy and paste the link to your pull request into the address bar. Make sure you can see your pull request properly. This helps the technical facilitator and learning support staff review your submission easily.\n",
    "\n",
    "Checklist:\n",
    "- [ ] Create a branch called `assignment-1`.\n",
    "- [ ] Ensure that the repository is public.\n",
    "- [ ] Review [the PR description guidelines](https://github.com/UofT-DSI/onboarding/blob/main/onboarding_documents/submissions.md#guidelines-for-pull-request-descriptions) and adhere to them.\n",
    "- [ ] Verify that the link is accessible in a private browser window.\n",
    "\n",
    "If you encounter any difficulties or have questions, please don't hesitate to reach out to our team via our Slack at `#cohort-3-help`. Our Technical Facilitators and Learning Support staff are here to help you navigate any challenges."
   ]
  }
 ],
 "metadata": {
  "kernelspec": {
   "display_name": "dsi_participant",
   "language": "python",
   "name": "python3"
  },
  "language_info": {
   "codemirror_mode": {
    "name": "ipython",
    "version": 3
   },
   "file_extension": ".py",
   "mimetype": "text/x-python",
   "name": "python",
   "nbconvert_exporter": "python",
   "pygments_lexer": "ipython3",
   "version": "3.9.15"
  }
 },
 "nbformat": 4,
 "nbformat_minor": 4
}
